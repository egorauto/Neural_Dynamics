{
 "cells": [
  {
   "cell_type": "code",
   "execution_count": null,
   "metadata": {
    "ExecuteTime": {
     "end_time": "2020-01-28T16:59:25.072992Z",
     "start_time": "2020-01-28T16:59:22.763219Z"
    }
   },
   "outputs": [],
   "source": [
    "import matplotlib.pyplot as plt\n",
    "import plotly.graph_objects as go\n",
    "import numpy as np\n",
    "%matplotlib inline"
   ]
  },
  {
   "cell_type": "code",
   "execution_count": null,
   "metadata": {
    "ExecuteTime": {
     "end_time": "2020-01-28T17:25:55.837520Z",
     "start_time": "2020-01-28T17:25:55.765473Z"
    },
    "code_folding": [
     0
    ]
   },
   "outputs": [],
   "source": [
    "class NeuralField:\n",
    "    \n",
    "    def __init__(self, tau, a, b, d, k, c=None, v=None):\n",
    "        \n",
    "        self.tau = tau\n",
    "        self.a = a\n",
    "        self.b = b\n",
    "        self.d = d\n",
    "        self.k = k\n",
    "        \n",
    "        if c and v:\n",
    "            self.c = c\n",
    "            self.v = v\n",
    "        \n",
    "    def kernel(self, x):\n",
    "        '''Interaction kernel, Gabor filter'''\n",
    "        return self.a * (np.exp(-(x**2)/(4*self.b**2))*np.cos(self.k*x))/(self.b*np.sqrt(np.pi))\n",
    "    \n",
    "    def kernel2(self, x):\n",
    "        return np.exp(-self.c*abs(x))*np.sign(x)\n",
    "    \n",
    "    def current(self, f, A, dx, add_noise=False):\n",
    "        '''Input stimulus'''\n",
    "        r = np.zeros(len(f))\n",
    "        for k in range(len(f)):\n",
    "            xk = A + k*dx\n",
    "            r[k] = np.exp(-(xk**2)/(4*self.d**2))/(2*self.d*np.sqrt(np.pi))\n",
    "        if add_noise:\n",
    "            mu, sigma = 0, 0.01\n",
    "            noise = np.random.normal(mu, sigma, len(f))\n",
    "            r += noise\n",
    "        return r\n",
    "    \n",
    "    def current2(self, f, A, dx, t, add_noise=False):\n",
    "        r = np.zeros(len(f))\n",
    "        for k in range(len(f)):\n",
    "            xk = A + k*dx\n",
    "            r[k] = self.c * np.exp(-((xk - self.v*t)**2)/(4*self.d**2))/(2*self.d*np.sqrt(np.pi))\n",
    "        if add_noise:\n",
    "            mu, sigma = 0, 0.01\n",
    "            noise = np.random.normal(mu, sigma, len(f))\n",
    "            r += noise\n",
    "        return r\n",
    "        \n",
    "    def convolve(self, f, A, dx):\n",
    "        '''Linear 1D convolution'''\n",
    "        r = np.zeros(len(f))\n",
    "        for k in range(len(f)):\n",
    "            xk = A + k*dx\n",
    "            for i in range(len(f)):\n",
    "                xi = A + i*dx\n",
    "                r[k] += self.kernel2(xk - xi) * f[i] * dx\n",
    "        return r\n",
    "    \n",
    "    def simulate(self, A, B, dt, N):\n",
    "        '''Simulate the Neural Field'''\n",
    "        t = np.arange(0, 40, dt)\n",
    "        dx = (B-A)/N\n",
    "        du = np.zeros((len(t), N))\n",
    "        \n",
    "        for i in range(1, len(t)):\n",
    "            this_convolution = self.convolve(du[(i-1), :], A, dx)\n",
    "            this_current     = self.current2(du[(i-1), :], A, dx, t[i], add_noise=False)\n",
    "            du[i, :] = du[(i-1), :] + (dt/self.tau)*(-du[(i-1), :] + this_convolution + this_current)\n",
    "        return du\n",
    "\n",
    "class NonlinearNeuralField:\n",
    "    \n",
    "    def __init__(self, tau, a, b, d, h, A, B, C):\n",
    "        \n",
    "        self.tau = tau\n",
    "        self.a = a\n",
    "        self.b = b\n",
    "        self.d = d\n",
    "        self.h = h\n",
    "        self.A = A\n",
    "        self.B = B\n",
    "        self.C = C\n",
    "        \n",
    "    def kernel(self, x):\n",
    "\n",
    "        if abs(x) <= self.a:\n",
    "            return self.A\n",
    "        elif (abs(x) >= self.a) and (abs(x) <= self.b):\n",
    "            return -self.B\n",
    "        return 0\n",
    "    \n",
    "    def kernel2(self, x):\n",
    "        if abs(x) <= self.b:\n",
    "            return 0.8*x\n",
    "        else:\n",
    "            return 0\n",
    "    \n",
    "    def current(self, f, A, dx):\n",
    "        '''Input stimulus'''\n",
    "        r = np.zeros(len(f))\n",
    "        for k in range(len(f)):\n",
    "            xk = A + k*dx\n",
    "            if abs(xk) <= self.d:\n",
    "                r[k] = self.C*(1-(abs(xk)/self.d))\n",
    "            else:\n",
    "                r[k] = 0\n",
    "        return r\n",
    "        \n",
    "    def convolve(self, f, A, dx):\n",
    "        '''Linear 1D convolution'''\n",
    "        r = np.zeros(len(f))\n",
    "        for k in range(len(f)):\n",
    "            xk = A + k*dx\n",
    "            for i in range(len(f)):\n",
    "                xi = A + i*dx\n",
    "                \n",
    "                r[k] += (self.kernel(xk - xi) + self.kernel2(xk - xi)) * (f[i]>0) * dx\n",
    "        return r\n",
    "    \n",
    "    def simulate(self, A, B, dt, N):\n",
    "        '''Simulate the Neural Field'''\n",
    "        t = np.arange(A, B, dt)\n",
    "        dx = (B-A)/N\n",
    "        du = np.zeros((len(t), N))\n",
    "        to_start = 3.3*self.current(du[0, :], A, dx) - self.h\n",
    "        du[0, :] = to_start\n",
    "        \n",
    "        for i in range(1, len(t)):\n",
    "            this_convolution = self.convolve(du[(i-1), :], A, dx)\n",
    "            this_current     = self.current(du[(i-1), :], A, dx)\n",
    "            du[i, :] = du[(i-1), :] + (dt/self.tau)*(-du[(i-1), :] + this_convolution - self.h)\n",
    "        return du"
   ]
  },
  {
   "cell_type": "code",
   "execution_count": null,
   "metadata": {
    "ExecuteTime": {
     "end_time": "2020-01-28T16:41:23.781308Z",
     "start_time": "2020-01-28T16:41:23.774915Z"
    }
   },
   "outputs": [],
   "source": [
    "tau = 10\n",
    "a = 1\n",
    "b = 0.6\n",
    "d = 0.5\n",
    "k = 8\n",
    "c = 1\n",
    "v = 0.1\n",
    "f = NeuralField(tau, a, b, d, k, c, v)"
   ]
  },
  {
   "cell_type": "code",
   "execution_count": null,
   "metadata": {
    "ExecuteTime": {
     "end_time": "2020-01-28T16:42:14.972787Z",
     "start_time": "2020-01-28T16:41:24.027657Z"
    }
   },
   "outputs": [],
   "source": [
    "A = -10\n",
    "B = 10\n",
    "dt = 0.1\n",
    "N = 200\n",
    "du = f.simulate(A, B, dt, N)"
   ]
  },
  {
   "cell_type": "code",
   "execution_count": null,
   "metadata": {
    "ExecuteTime": {
     "end_time": "2020-01-28T16:42:16.179855Z",
     "start_time": "2020-01-28T16:42:15.175832Z"
    }
   },
   "outputs": [],
   "source": [
    "vals = np.arange(0, 200, 20)\n",
    "ticks = np.arange(-10, 10, 2)\n",
    "\n",
    "layout = go.Layout(scene = dict(\n",
    "                    xaxis = dict(\n",
    "                        title = 'Space',\n",
    "                        tickmode = 'array',\n",
    "                        tickvals = vals,\n",
    "                        ticktext = ticks),\n",
    "                    yaxis_title='Time / ms',\n",
    "                    zaxis_title='Firing rate'),\n",
    "                    width=700,\n",
    "                    margin=dict(r=20, b=10, l=10, t=10))\n",
    "\n",
    "fig = go.Figure(data=go.Surface(z=du, contours = {\n",
    "        \"x\": {\"show\": True, \"start\": 0, \"end\": 200, \"size\": 2, \"color\":\"black\"}}), layout=layout)\n",
    "fig.show()"
   ]
  },
  {
   "cell_type": "code",
   "execution_count": null,
   "metadata": {
    "ExecuteTime": {
     "end_time": "2020-01-28T20:36:36.263018Z",
     "start_time": "2020-01-28T20:36:36.256300Z"
    }
   },
   "outputs": [],
   "source": [
    "tau = 10\n",
    "a = 1\n",
    "b = 3\n",
    "d = 4\n",
    "h = 1\n",
    "A = 3\n",
    "B = 2\n",
    "C = 0.6\n",
    "n = NonlinearNeuralField(tau, a, b, d, h, A, B, C)"
   ]
  },
  {
   "cell_type": "code",
   "execution_count": null,
   "metadata": {
    "ExecuteTime": {
     "end_time": "2020-01-28T17:27:13.122329Z",
     "start_time": "2020-01-28T17:26:00.933755Z"
    }
   },
   "outputs": [],
   "source": [
    "A = -10\n",
    "B = 10\n",
    "dt = 0.1\n",
    "N = 200\n",
    "du = n.simulate(A, B, dt, N)"
   ]
  },
  {
   "cell_type": "code",
   "execution_count": null,
   "metadata": {
    "ExecuteTime": {
     "end_time": "2020-01-28T17:27:14.341224Z",
     "start_time": "2020-01-28T17:27:13.304217Z"
    }
   },
   "outputs": [],
   "source": [
    "vals = np.arange(0, 200, 20)\n",
    "ticks = np.arange(-10, 10, 2)\n",
    "\n",
    "layout = go.Layout(scene = dict(\n",
    "                    xaxis = dict(\n",
    "                        title = 'Space',\n",
    "                        tickmode = 'array',\n",
    "                        tickvals = vals,\n",
    "                        ticktext = ticks),\n",
    "                    yaxis_title='Time / ms',\n",
    "                    zaxis_title='Firing rate'),\n",
    "                    width=700,\n",
    "                    margin=dict(r=20, b=10, l=10, t=10))\n",
    "\n",
    "fig = go.Figure(data=go.Surface(z=du, contours = {\n",
    "        \"x\": {\"show\": True, \"start\": 0, \"end\": 200, \"size\": 2, \"color\":\"black\"}}), layout=layout)\n",
    "fig.show()"
   ]
  },
  {
   "cell_type": "code",
   "execution_count": null,
   "metadata": {},
   "outputs": [],
   "source": []
  }
 ],
 "metadata": {
  "kernelspec": {
   "display_name": "Python 3",
   "language": "python",
   "name": "python3"
  },
  "language_info": {
   "codemirror_mode": {
    "name": "ipython",
    "version": 3
   },
   "file_extension": ".py",
   "mimetype": "text/x-python",
   "name": "python",
   "nbconvert_exporter": "python",
   "pygments_lexer": "ipython3",
   "version": "3.7.6"
  },
  "varInspector": {
   "cols": {
    "lenName": 16,
    "lenType": 16,
    "lenVar": 40
   },
   "kernels_config": {
    "python": {
     "delete_cmd_postfix": "",
     "delete_cmd_prefix": "del ",
     "library": "var_list.py",
     "varRefreshCmd": "print(var_dic_list())"
    },
    "r": {
     "delete_cmd_postfix": ") ",
     "delete_cmd_prefix": "rm(",
     "library": "var_list.r",
     "varRefreshCmd": "cat(var_dic_list()) "
    }
   },
   "types_to_exclude": [
    "module",
    "function",
    "builtin_function_or_method",
    "instance",
    "_Feature"
   ],
   "window_display": false
  }
 },
 "nbformat": 4,
 "nbformat_minor": 2
}
