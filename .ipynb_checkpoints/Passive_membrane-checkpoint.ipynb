{
 "cells": [
  {
   "cell_type": "code",
   "execution_count": 1,
   "metadata": {
    "ExecuteTime": {
     "end_time": "2019-11-19T21:35:50.159691Z",
     "start_time": "2019-11-19T21:35:49.376172Z"
    }
   },
   "outputs": [],
   "source": [
    "import numpy as np\n",
    "import matplotlib.pyplot as plt\n",
    "import pandas as pd\n",
    "%matplotlib inline"
   ]
  },
  {
   "cell_type": "code",
   "execution_count": 2,
   "metadata": {
    "ExecuteTime": {
     "end_time": "2019-11-19T21:35:50.942228Z",
     "start_time": "2019-11-19T21:35:50.878627Z"
    }
   },
   "outputs": [],
   "source": [
    "class Neuron:\n",
    "    \n",
    "    def __init__(self, E_m, L, d, r_m, r_a, c_m):\n",
    "        self.E_m = E_m\n",
    "        self.L   = L\n",
    "        self.d   = d\n",
    "        self.r_m = r_m\n",
    "        self.r_a = r_a\n",
    "        self.c_m = c_m\n",
    "        \n",
    "    def simulate(self, I_t, dt, L, offset, steps=100):\n",
    "        '''Simulate membrane voltage response to an arbitraty input current'''\n",
    "        \n",
    "        V_t = self.E_m\n",
    "        rad = self.d/2\n",
    "        R_m = self.r_m/(2*np.pi*rad*self.L)\n",
    "        C_m = self.c_m*(4*np.pi*rad**2)\n",
    "        tau = R_m*C_m\n",
    "        \n",
    "        V_course = [V_t]\n",
    "        for i in range(steps):\n",
    "            V_t1 = V_t + dt*(self.E_m - V_t + R_m*I_t)/tau\n",
    "            V_course.append(V_t1)\n",
    "            V_t = V_t1\n",
    "        return V_course\n",
    "    \n",
    "    def simulate_sin(self, A, f, dt, offset, steps=100):\n",
    "        '''Simulate membrane voltage response to a sinusoid input current'''\n",
    "        V_t  = self.E_m\n",
    "        rad  = self.d/2\n",
    "        R_m  = self.r_m/(2*np.pi*rad*self.L)\n",
    "        C_m  = self.c_m*(4*np.pi*rad**2)\n",
    "        tau  = R_m*C_m\n",
    "        step = dt\n",
    "        \n",
    "        V_course = [V_t]\n",
    "        for i in range(steps):\n",
    "            I_t   = A*np.sin(2*np.pi*f*step)\n",
    "            V_t1 = V_t + (dt*(self.E_m - V_t + R_m*I_t))/tau\n",
    "            V_course.append(V_t1)\n",
    "            V_t = V_t1\n",
    "            step += dt\n",
    "        return V_course\n",
    "    \n",
    "    def simulate_two_compartment(self, I_t, dt, t_e, t_s, r_m, r_a, c_m, time):\n",
    "        \n",
    "        V1_t = self.E_m\n",
    "        V2_t = self.E_m\n",
    "        tau = r_m * c_m\n",
    "        V1_course = []\n",
    "        V2_course = []\n",
    "        for j in np.arange(0, time, dt):\n",
    "            if j < (t_e):\n",
    "                curr_I = I_t[0]\n",
    "            elif (t_e) <= j < (t_s):\n",
    "                curr_I = I_t[1]\n",
    "            else:\n",
    "                curr_I = I_t[2]\n",
    "            V1_t1 = V1_t + dt*((self.E_m - V1_t)/tau + (V2_t - V1_t)/(r_a*c_m) + curr_I/c_m)\n",
    "            V1_course.append(V1_t1)\n",
    "            V1_t = V1_t1\n",
    "\n",
    "            V2_t1 = V2_t + dt*((V1_t - V2_t)/(r_a*c_m) + (self.E_m - V2_t)/tau)\n",
    "            V2_course.append(V2_t1)\n",
    "            V2_t = V2_t1\n",
    "                \n",
    "        figure = plt.figure(figsize=(13, 7))\n",
    "        plt.ylim(-abs(min(V1_course)*1.5), abs(min(V1_course)*1.5))\n",
    "        plt.axhline(y=0, color='k', linestyle='--', alpha=0.4)\n",
    "        plt.grid(alpha=0.4)\n",
    "        plt.title('Injected current', fontsize=20)\n",
    "        plt.xlabel('Time / ms', fontsize=15)\n",
    "        plt.ylabel('Membrane voltage response / mV', fontsize=15)\n",
    "        \n",
    "        xi = np.arange(0, len(V1_course))/100\n",
    "        plt.plot(xi, V1_course, label=\"Compartment 1\")\n",
    "        plt.plot(xi, V2_course, label='Compartment 2')\n",
    "        plt.axvline(x=t_e*1000, color='r', linestyle='--', alpha=0.4)\n",
    "        plt.axvline(x=t_s*1000, color='r', linestyle='--', alpha=0.4)\n",
    "        \n",
    "        plt.xticks(fontsize = 10)\n",
    "        plt.yticks(fontsize = 10)\n",
    "        plt.xlim(200, 700)\n",
    "        plt.legend(prop={'size': 12})\n",
    "#         plt.savefig('Ra_30G.png')\n",
    "        return V1_course, V2_course\n",
    "\n",
    "    def simulate_two_compartment_sin(self, A, f, dt, r_m, r_a, c_m, time):\n",
    "        V1_t = self.E_m\n",
    "        V2_t = self.E_m\n",
    "        tau = r_m * c_m\n",
    "        V1_course = []\n",
    "        V2_course = []\n",
    "        for j in np.arange(0, time, dt):\n",
    "            curr_I = A*np.sin(2*np.pi*f*j)\n",
    "            V1_t1 = (V1_t + dt*((self.E_m - V1_t)/tau + (V2_t - V1_t)/(r_a*c_m) + curr_I/c_m))\n",
    "            V1_course.append(V1_t1)\n",
    "            V1_t = V1_t1\n",
    "            V2_t1 = (V2_t + dt*((V1_t - V2_t)/(r_a*c_m) + (self.E_m - V2_t)/tau))\n",
    "            V2_course.append(V2_t1)\n",
    "            V2_t = V2_t1\n",
    "            \n",
    "        figure = plt.figure(figsize=(13, 7))\n",
    "        plt.ylim(-abs(min(V1_course)*1.5), abs(min(V1_course)*1.5))\n",
    "        plt.axhline(y=0, color='k', linestyle='--', alpha=0.4)\n",
    "        plt.grid(alpha=0.4)\n",
    "        plt.title('Injected current', fontsize=20)\n",
    "        plt.xlabel('Time / ms', fontsize=15)\n",
    "        plt.ylabel('Membrane voltage response / mV', fontsize=15)\n",
    "        \n",
    "        xi = np.arange(0, len(V1_course))/100\n",
    "        plt.plot(xi, V1_course, label=\"Compartment 1\")\n",
    "        plt.plot(xi, V2_course, label='Compartment 2')\n",
    "        plt.xticks(fontsize = 10)\n",
    "        plt.yticks(fontsize = 10)\n",
    "        plt.legend(prop={'size': 12})\n",
    "#         plt.savefig('Sin_Ra_300M.png')\n",
    "        return V1_course, V2_course"
   ]
  },
  {
   "cell_type": "code",
   "execution_count": null,
   "metadata": {
    "ExecuteTime": {
     "end_time": "2019-11-19T16:03:59.920960Z",
     "start_time": "2019-11-19T16:03:59.914231Z"
    }
   },
   "outputs": [],
   "source": [
    "E_m = 0\n",
    "L   = 100*10**-6\n",
    "d   = 2*10**-6\n",
    "r_m = 1\n",
    "r_a = 1\n",
    "c_m = 10**-2\n",
    "\n",
    "a = Neuron(E_m, L, d, r_m, r_a, c_m)"
   ]
  },
  {
   "cell_type": "code",
   "execution_count": null,
   "metadata": {
    "ExecuteTime": {
     "end_time": "2019-11-19T14:47:58.439867Z",
     "start_time": "2019-11-19T14:47:58.430093Z"
    },
    "hide_input": false
   },
   "outputs": [],
   "source": [
    "I_t    = -50*10**-12\n",
    "dt     = 0.0001\n",
    "offset = 0\n",
    "steps  = 1000\n",
    "v      = a.simulate(I_t, dt, offset, steps)"
   ]
  },
  {
   "cell_type": "code",
   "execution_count": null,
   "metadata": {
    "ExecuteTime": {
     "end_time": "2019-11-19T13:25:47.125143Z",
     "start_time": "2019-11-19T13:25:46.822269Z"
    }
   },
   "outputs": [],
   "source": [
    "figure = plt.figure(figsize=(20, 8))\n",
    "plt.ylim(-abs(min(v)*1.5), abs(min(v)*1.5))\n",
    "plt.axhline(y=0, color='k', linestyle='--', alpha=0.4)\n",
    "plt.grid(alpha=0.4)\n",
    "plt.title('Injected current', fontsize=20)\n",
    "plt.xlabel('Time / %.4f*s'%dt, fontsize=15)\n",
    "plt.ylabel('Membrane voltage response / mV', fontsize=15)\n",
    "plt.plot(v)"
   ]
  },
  {
   "cell_type": "code",
   "execution_count": null,
   "metadata": {
    "ExecuteTime": {
     "end_time": "2019-11-19T13:25:49.478160Z",
     "start_time": "2019-11-19T13:25:49.193880Z"
    }
   },
   "outputs": [],
   "source": [
    "f      = 10\n",
    "A      = 100*10**-12\n",
    "dt     = 0.0001\n",
    "offset = 0\n",
    "steps  = 100000\n",
    "v = a.simulate_sin(A, f, dt, offset, steps)"
   ]
  },
  {
   "cell_type": "code",
   "execution_count": null,
   "metadata": {
    "ExecuteTime": {
     "end_time": "2019-11-19T13:25:50.090120Z",
     "start_time": "2019-11-19T13:25:49.703195Z"
    }
   },
   "outputs": [],
   "source": [
    "figure = plt.figure(figsize=(20, 8))\n",
    "plt.ylim(-abs(max(v)*1.5), abs(max(v)*1.5))\n",
    "plt.axhline(y=0, color='k', linestyle='--', alpha=0.4)\n",
    "plt.grid(alpha=0.4)\n",
    "plt.title('Injected sine current at %.1f Hertz' %f, fontsize=20)\n",
    "plt.xlabel('Time / %.4f*s'%dt, fontsize=15)\n",
    "plt.ylabel('Membrane voltage response / mV', fontsize=15)\n",
    "plt.plot(v)"
   ]
  },
  {
   "cell_type": "code",
   "execution_count": null,
   "metadata": {
    "ExecuteTime": {
     "end_time": "2019-11-19T13:16:25.573929Z",
     "start_time": "2019-11-19T13:16:25.558122Z"
    }
   },
   "outputs": [],
   "source": [
    "def get_amplitude(neuron, f):\n",
    "    amp = []\n",
    "    for i in range(len(f)):\n",
    "        curr_f = f[i]\n",
    "        V = a.simulate_sin(A, curr_f, dt, offset, steps)\n",
    "        tmp = V[6000:]\n",
    "        amp.append(max(tmp))\n",
    "    return amp"
   ]
  },
  {
   "cell_type": "code",
   "execution_count": null,
   "metadata": {
    "ExecuteTime": {
     "end_time": "2019-11-19T13:16:27.821540Z",
     "start_time": "2019-11-19T13:16:25.961020Z"
    }
   },
   "outputs": [],
   "source": [
    "f = [0.5, 1, 2, 8, 100, 1000]\n",
    "amp = get_amplitude(a, f)"
   ]
  },
  {
   "cell_type": "code",
   "execution_count": null,
   "metadata": {
    "ExecuteTime": {
     "end_time": "2019-11-19T13:16:28.339996Z",
     "start_time": "2019-11-19T13:16:28.040723Z"
    }
   },
   "outputs": [],
   "source": [
    "figure = plt.figure(figsize=(8, 8))\n",
    "plt.grid(alpha=0.4)\n",
    "plt.xlabel('Log-frequency of injected current', fontsize=15)\n",
    "plt.ylabel('Log-voltage membrane response', fontsize=15)\n",
    "plt.title('Bode diagram', fontsize=20)\n",
    "plt.plot(np.log(f), np.log(amp))\n",
    "plt.scatter(np.log(f), np.log(amp))"
   ]
  },
  {
   "cell_type": "code",
   "execution_count": null,
   "metadata": {
    "ExecuteTime": {
     "end_time": "2019-11-19T16:45:49.288231Z",
     "start_time": "2019-11-19T16:45:48.683615Z"
    }
   },
   "outputs": [],
   "source": [
    "r_m   = 265*10**6\n",
    "r_a   = 300*10**6\n",
    "c_m   = 75*10**-12\n",
    "I_t   = [0, -100*10**-12, 0]\n",
    "t_e   = 0.4\n",
    "t_s   = 0.44\n",
    "dt    = 0.00001\n",
    "time  = 1 #s\n",
    "\n",
    "v1, v2 = a.simulate_two_compartment(I_t, dt, t_e, t_s, r_m, r_a, c_m, time)"
   ]
  },
  {
   "cell_type": "code",
   "execution_count": null,
   "metadata": {
    "ExecuteTime": {
     "end_time": "2019-11-19T16:40:58.541072Z",
     "start_time": "2019-11-19T16:40:56.562022Z"
    }
   },
   "outputs": [],
   "source": [
    "r_m  = 265*10**6\n",
    "r_a  = 300*10**6\n",
    "c_m  = 75*10**-12\n",
    "A    = 100*10**-9\n",
    "f    = 20\n",
    "dt   = 0.00001\n",
    "time = 2 #s\n",
    "\n",
    "v1, v2 = a.simulate_two_compartment_sin(A, f, dt, r_m, r_a, c_m, time)"
   ]
  },
  {
   "cell_type": "code",
   "execution_count": null,
   "metadata": {
    "ExecuteTime": {
     "end_time": "2019-11-19T16:41:18.405362Z",
     "start_time": "2019-11-19T16:41:18.398191Z"
    }
   },
   "outputs": [],
   "source": [
    "def get_amplitude(neuron, f):\n",
    "    amp1 = []\n",
    "    amp2 = []\n",
    "    for i in range(len(f)):\n",
    "        curr_f = f[i]\n",
    "        v1, v2 = a.simulate_two_compartment_sin(A, curr_f, 0.00001, r_m, r_a, c_m, time)\n",
    "        tmp1 = v1[150000:]\n",
    "        tmp2 = v2[150000:]\n",
    "        amp1.append(max(tmp1)/1000)\n",
    "        amp2.append(max(tmp2)/1000)\n",
    "    return amp1, amp2"
   ]
  },
  {
   "cell_type": "code",
   "execution_count": null,
   "metadata": {
    "ExecuteTime": {
     "end_time": "2019-11-19T16:41:49.700327Z",
     "start_time": "2019-11-19T16:41:20.571225Z"
    }
   },
   "outputs": [],
   "source": [
    "f = [1, 2, 5, 10, 20, 50, 100, 200, 500, 1000, 2000, 5000]\n",
    "amp1, amp2 = get_amplitude(a, f)"
   ]
  },
  {
   "cell_type": "code",
   "execution_count": null,
   "metadata": {
    "ExecuteTime": {
     "end_time": "2019-11-19T16:43:21.267985Z",
     "start_time": "2019-11-19T16:43:20.930832Z"
    }
   },
   "outputs": [],
   "source": [
    "figure = plt.figure(figsize=(8, 8))\n",
    "plt.grid(alpha=0.4)\n",
    "plt.xlabel('Log-frequency of injected current [Hz]', fontsize=15)\n",
    "plt.ylabel('Log-voltage membrane response [V]', fontsize=15)\n",
    "plt.title('Bode diagram', fontsize=20)\n",
    "plt.plot(np.log(f), np.log(amp1))\n",
    "plt.scatter(np.log(f), np.log(amp1), label='Compartment 1')\n",
    "plt.plot(np.log(f), np.log(amp2))\n",
    "plt.scatter(np.log(f), np.log(amp2), label='Compartment 2')\n",
    "plt.legend(prop={'size': 12})\n",
    "plt.savefig('Bode.png')"
   ]
  },
  {
   "cell_type": "code",
   "execution_count": null,
   "metadata": {},
   "outputs": [],
   "source": []
  }
 ],
 "metadata": {
  "kernelspec": {
   "display_name": "Python 3",
   "language": "python",
   "name": "python3"
  },
  "language_info": {
   "codemirror_mode": {
    "name": "ipython",
    "version": 3
   },
   "file_extension": ".py",
   "mimetype": "text/x-python",
   "name": "python",
   "nbconvert_exporter": "python",
   "pygments_lexer": "ipython3",
   "version": "3.7.4"
  },
  "varInspector": {
   "cols": {
    "lenName": 16,
    "lenType": 16,
    "lenVar": 40
   },
   "kernels_config": {
    "python": {
     "delete_cmd_postfix": "",
     "delete_cmd_prefix": "del ",
     "library": "var_list.py",
     "varRefreshCmd": "print(var_dic_list())"
    },
    "r": {
     "delete_cmd_postfix": ") ",
     "delete_cmd_prefix": "rm(",
     "library": "var_list.r",
     "varRefreshCmd": "cat(var_dic_list()) "
    }
   },
   "types_to_exclude": [
    "module",
    "function",
    "builtin_function_or_method",
    "instance",
    "_Feature"
   ],
   "window_display": false
  }
 },
 "nbformat": 4,
 "nbformat_minor": 2
}
