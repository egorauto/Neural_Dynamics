{
 "cells": [
  {
   "cell_type": "code",
   "execution_count": null,
   "metadata": {
    "ExecuteTime": {
     "end_time": "2019-11-28T16:57:10.598378Z",
     "start_time": "2019-11-28T16:57:08.234961Z"
    }
   },
   "outputs": [],
   "source": [
    "import numpy as np\n",
    "import matplotlib.pyplot as plt\n",
    "from scipy.signal import find_peaks\n",
    "import plotly.graph_objects as go\n",
    "%matplotlib inline"
   ]
  },
  {
   "cell_type": "code",
   "execution_count": null,
   "metadata": {
    "ExecuteTime": {
     "end_time": "2019-11-28T16:57:11.144944Z",
     "start_time": "2019-11-28T16:57:11.140929Z"
    }
   },
   "outputs": [],
   "source": [
    "def threshold_detect(signal):\n",
    "    peaks, _ = find_peaks(signal, prominence=1)\n",
    "    return peaks"
   ]
  },
  {
   "cell_type": "code",
   "execution_count": null,
   "metadata": {
    "ExecuteTime": {
     "end_time": "2019-11-28T17:31:21.563595Z",
     "start_time": "2019-11-28T17:31:21.479476Z"
    }
   },
   "outputs": [],
   "source": [
    "class Neuron:\n",
    "    \n",
    "    def __init__(self, E_m, C_m, E_na, E_k, E_l, g_na, g_k, g_l):\n",
    "        self.E_m = E_m\n",
    "        self.C_m = C_m\n",
    "        self.E_na = E_na\n",
    "        self.E_k = E_k\n",
    "        self.E_l = E_l\n",
    "        self.g_na = g_na\n",
    "        self.g_k = g_k\n",
    "        self.g_l = g_l\n",
    "    \n",
    "    def _update_gating(self, V_t, dt, m_t, h_t, n_t):\n",
    "        '''Update gating variables'''\n",
    "        \n",
    "        beta_m = 4*np.exp(-V_t/18)\n",
    "        beta_h = 1/(1 + np.exp(-(V_t - 30)/10))\n",
    "        beta_n = 0.125*np.exp(-V_t/80)\n",
    "                \n",
    "        if V_t == 25:\n",
    "            alpha_m = 1\n",
    "        else:\n",
    "            alpha_m = 0.1*((V_t - 25)/(1 - np.exp(-(V_t - 25)/10)))\n",
    "        alpha_h = 0.07*np.exp(-V_t/20)\n",
    "        if V_t == 10:\n",
    "            alpha_n = 0.1\n",
    "        else:\n",
    "            alpha_n = 0.01*((V_t - 10)/(1 - np.exp(-(V_t - 10)/10)))\n",
    "\n",
    "        m_t1 = m_t + dt*(alpha_m*(1 - m_t) - beta_m*m_t)\n",
    "        h_t1 = h_t + dt*(alpha_h*(1 - h_t) - beta_h*h_t)\n",
    "        n_t1 = n_t + dt*(alpha_n*(1 - n_t) - beta_n*n_t)\n",
    "        \n",
    "        return m_t1, h_t1, n_t1\n",
    "    \n",
    "    def _plot_response(self, V, t_e, t_s, dt, save_fig=False):\n",
    "        '''Plot 2D responses'''\n",
    "        \n",
    "        figure = plt.figure(figsize=(9, 5))\n",
    "        plt.grid(alpha=0.4)\n",
    "        xi = np.arange(0, len(V), 1)*dt\n",
    "        plt.plot(xi, V)\n",
    "        plt.axhline(y=0, color='k', linestyle='--', alpha=0.4)\n",
    "        plt.axvline(x=t_e, color='r', linestyle='--', alpha=0.4)\n",
    "        plt.axvline(x=t_s, color='r', linestyle='--', alpha=0.4)\n",
    "        plt.xlabel('Time / ms', fontsize=15)\n",
    "        plt.ylabel('Voltage / mV', fontsize=15)\n",
    "        plt.xticks(fontsize = 10)\n",
    "        plt.yticks(fontsize = 10)\n",
    "        \n",
    "        if save_fig:\n",
    "            plt.savefig('Figure.png')\n",
    "        return\n",
    "    \n",
    "    def _plot_response_3D(self, V, dt, save_fig=False):\n",
    "        '''Plot 3D responses'''\n",
    "        \n",
    "        vals = np.arange(0, V.shape[1], 2000)\n",
    "        ticks = vals*dt\n",
    "        \n",
    "        layout = go.Layout(scene = dict(\n",
    "                            xaxis = dict(\n",
    "                                title = 'Time / ms',\n",
    "                                tickmode = 'array',\n",
    "                                tickvals = vals,\n",
    "                                ticktext = ticks),\n",
    "                            yaxis_title='Compartment',\n",
    "                            zaxis_title='Voltage / mV'),\n",
    "                            width=700,\n",
    "                            margin=dict(r=20, b=10, l=10, t=10))\n",
    "                \n",
    "        fig = go.Figure(data=go.Surface(z=V), layout=layout)\n",
    "        fig.show()\n",
    "        \n",
    "        if save_fig:\n",
    "            fig.write_image(\"fig1.png\")\n",
    "        return\n",
    "    \n",
    "    def simulate(self, I_t, dt, time, t_e=None, t_s=None, plot=True, save_fig=False):\n",
    "        \n",
    "        num_time_bins = int(time/dt)\n",
    "        \n",
    "        V_t  = 0\n",
    "        V_course = np.zeros(num_time_bins)\n",
    "        \n",
    "        m_t  = 0\n",
    "        h_t  = 0\n",
    "        n_t  = 0\n",
    "        \n",
    "        for i in np.arange(0, int(time/dt), 1):\n",
    "            \n",
    "            if t_e:\n",
    "                if (i*dt) < t_e:\n",
    "                    I = I_t[0]\n",
    "                elif t_e <= (i*dt) and (i*dt) < t_s:\n",
    "                    I = I_t[1]\n",
    "                else:\n",
    "                    I = I_t[2]\n",
    "            else:\n",
    "                I = I_t\n",
    "                        \n",
    "            m_t, h_t, n_t = self._update_gating(V_t, m_t, h_t, n_t)\n",
    "            \n",
    "            leak = self.g_l*(V_t - self.E_l)\n",
    "            sod  = self.g_na*(m_t**3)*h_t*(V_t - self.E_na)\n",
    "            pot  = self.g_k*(n_t**4)*(V_t - self.E_k)\n",
    "            V_course[i] = V_t + (dt/self.C_m)*(I - leak - sod - pot)\n",
    "            V_t = V_course[i]\n",
    "            \n",
    "        if plot:\n",
    "            self._plot_response(V_course, t_e, t_s, dt, save_fig=save_fig)\n",
    "            \n",
    "        return V_course\n",
    "    \n",
    "    def simulate_multi_compartment(self, N, j, g_ax, I_t, \n",
    "                                   dt, time, t_e=None, t_s=None, plot=True, save_fig=False):\n",
    "        \n",
    "        num_time_bins = int(time/dt)\n",
    "        \n",
    "        V_t = np.zeros(N)\n",
    "        V_course = np.zeros((N, num_time_bins))\n",
    "        \n",
    "        m_t  = np.zeros(N)\n",
    "        h_t  = np.zeros(N)\n",
    "        n_t  = np.zeros(N)\n",
    "        \n",
    "        right = np.array([i for i in range(1, j)][::-1])\n",
    "        left = np.array([i for i in range((j+1), (N-1))])\n",
    "        \n",
    "        for i in np.arange(0, int(time/dt), 1):\n",
    "            \n",
    "            if t_e:\n",
    "                if (i*dt) < t_e:\n",
    "                    I = I_t[0]\n",
    "                elif t_e <= (i*dt) and (i*dt) < t_s:\n",
    "                    I = I_t[1]\n",
    "                else:\n",
    "                    I = I_t[2]\n",
    "            else:\n",
    "                I = I_t\n",
    "                        \n",
    "            m_t[j], h_t[j], n_t[j] = self._update_gating(V_t[j], dt, m_t[j], h_t[j], n_t[j])\n",
    "            V_course[j, i] = V_t[j] + (dt/self.C_m)*(I + self.g_l*(self.E_l - V_t[j])\n",
    "                                                       + self.g_na*np.power(m_t[j], 3)*h_t[j]*(self.E_na - V_t[j]) \n",
    "                                                       + self.g_k*np.power(n_t[j], 4)*(self.E_k - V_t[j]) \n",
    "                                                       + g_ax*(V_t[j-1] - V_t[j]) \n",
    "                                                       + g_ax*(V_t[j+1] - V_t[j]))\n",
    "            V_t[j] = V_course[j, i]\n",
    "            \n",
    "            for r in right:\n",
    "                m_t[r], h_t[r], n_t[r] = self._update_gating(V_t[r], dt, m_t[r], h_t[r], n_t[r])\n",
    "                V_course[r, i] = V_t[r] + (dt/self.C_m)*(self.g_l*(self.E_l - V_t[r])\n",
    "                                                       + self.g_na*np.power(m_t[r], 3)*h_t[r]*(self.E_na - V_t[r]) \n",
    "                                                       + self.g_k*np.power(n_t[r], 4)*(self.E_k - V_t[r]) \n",
    "                                                       + g_ax*(V_t[r-1] - V_t[r]) \n",
    "                                                       + g_ax*(V_t[r+1] - V_t[r]))\n",
    "                V_t[r] = V_course[r, i]\n",
    "                                \n",
    "            for l in left:\n",
    "                m_t[l], h_t[l], n_t[l] = self._update_gating(V_t[l], dt, m_t[l], h_t[l], n_t[l])\n",
    "                V_course[l, i] = V_t[l] + (dt/self.C_m)*(self.g_l*(self.E_l - V_t[l])\n",
    "                                                       + self.g_na*np.power(m_t[l], 3)*h_t[l]*(self.E_na - V_t[l]) \n",
    "                                                       + self.g_k*np.power(n_t[l], 4)*(self.E_k - V_t[l]) \n",
    "                                                       + g_ax*(V_t[l+1] - V_t[l]) \n",
    "                                                       + g_ax*(V_t[l-1] - V_t[l]))\n",
    "                V_t[l] = V_course[l, i]\n",
    "                \n",
    "            c = 0\n",
    "            m_t[c], h_t[c], n_t[c] = self._update_gating(V_t[c], dt, m_t[c], h_t[c], n_t[c])\n",
    "            V_course[c, i] = V_t[c] + (dt/self.C_m)*(self.g_l*(self.E_l - V_t[c])\n",
    "                                                   + self.g_na*np.power(m_t[c], 3)*h_t[c]*(self.E_na - V_t[c]) \n",
    "                                                   + self.g_k*np.power(n_t[c], 4)*(self.E_k - V_t[c]) \n",
    "                                                   + g_ax*(V_t[c+1] - V_t[c]))\n",
    "            V_t[c] = V_course[c, i]\n",
    "            \n",
    "            c = (N-1)\n",
    "#             m_t[c], h_t[c], n_t[c] = self._update_gating(V_t[c], dt, m_t[c], h_t[c], n_t[c])\n",
    "            V_course[c, i] = 0\n",
    "            V_t[c] = V_course[c, i]\n",
    "            \n",
    "        if plot:\n",
    "            self._plot_response_3D(V_course, dt, save_fig=save_fig)\n",
    "            \n",
    "        return V_course"
   ]
  },
  {
   "cell_type": "code",
   "execution_count": null,
   "metadata": {
    "ExecuteTime": {
     "end_time": "2019-11-28T17:31:22.281233Z",
     "start_time": "2019-11-28T17:31:22.275169Z"
    }
   },
   "outputs": [],
   "source": [
    "E_m = 0\n",
    "C_m = 1\n",
    "E_na = 115\n",
    "E_k = -12\n",
    "E_l = 10.6\n",
    "g_na = 120\n",
    "g_k = 36\n",
    "g_l = 0.3\n",
    "\n",
    "a = Neuron(E_m, C_m, E_na, E_k, E_l, g_na, g_k, g_l)"
   ]
  },
  {
   "cell_type": "code",
   "execution_count": null,
   "metadata": {
    "ExecuteTime": {
     "end_time": "2019-11-28T13:40:24.771321Z",
     "start_time": "2019-11-28T13:40:23.193780Z"
    }
   },
   "outputs": [],
   "source": [
    "I = [0, 8, 0]\n",
    "t_e = 50\n",
    "t_s = 300\n",
    "dt = 0.01 #ms\n",
    "time = t_s+100 #ms\n",
    "\n",
    "v = a.simulate(I, dt, time, t_e, t_s, save_fig=False)"
   ]
  },
  {
   "cell_type": "code",
   "execution_count": null,
   "metadata": {
    "ExecuteTime": {
     "end_time": "2019-11-27T11:55:45.235043Z",
     "start_time": "2019-11-27T11:53:01.866285Z"
    }
   },
   "outputs": [],
   "source": [
    "I = np.arange(0, 20, 0.25)\n",
    "dt = 0.01 #ms\n",
    "time = 800 #ms\n",
    "\n",
    "v = np.zeros((len(I), int(time/dt)))\n",
    "\n",
    "for c in range(len(I)):\n",
    "    v[c, :] = a.simulate(I[c], dt, time, plot=False, save_fig=False)"
   ]
  },
  {
   "cell_type": "code",
   "execution_count": null,
   "metadata": {
    "ExecuteTime": {
     "end_time": "2019-11-27T11:57:03.662827Z",
     "start_time": "2019-11-27T11:57:02.287662Z"
    }
   },
   "outputs": [],
   "source": [
    "r = []\n",
    "for i in range(v.shape[0]):\n",
    "    trace = v[i, 20000:]\n",
    "    x = threshold_detect(trace)\n",
    "    r.append(np.float(len(x))/np.float(0.6))"
   ]
  },
  {
   "cell_type": "code",
   "execution_count": null,
   "metadata": {
    "ExecuteTime": {
     "end_time": "2019-11-27T11:57:08.429931Z",
     "start_time": "2019-11-27T11:57:08.176153Z"
    }
   },
   "outputs": [],
   "source": [
    "figure = plt.figure(figsize=(9, 5))\n",
    "plt.grid(alpha=0.4)\n",
    "plt.xlabel('Applied current / µA', fontsize=15)\n",
    "plt.ylabel('Firing rate / s^-1', fontsize=15)\n",
    "plt.plot(I, r)\n",
    "# plt.scatter(I, r, marker='x', alpha=0.6)\n",
    "# plt.savefig('Firing_rate.png')"
   ]
  },
  {
   "cell_type": "code",
   "execution_count": null,
   "metadata": {
    "ExecuteTime": {
     "end_time": "2019-11-28T18:02:27.468258Z",
     "start_time": "2019-11-28T17:59:52.092954Z"
    }
   },
   "outputs": [],
   "source": [
    "N = 100\n",
    "j = 14\n",
    "g_ax = 0.5\n",
    "I = [0, 20, 0]\n",
    "t_e = 60\n",
    "t_s = 260\n",
    "dt = 0.01 #ms\n",
    "time = 400 #ms\n",
    "a.simulate_multi_compartment(N, j, g_ax, I, dt, time, t_e, t_s)"
   ]
  },
  {
   "cell_type": "code",
   "execution_count": null,
   "metadata": {},
   "outputs": [],
   "source": []
  }
 ],
 "metadata": {
  "kernelspec": {
   "display_name": "Python 3",
   "language": "python",
   "name": "python3"
  },
  "language_info": {
   "codemirror_mode": {
    "name": "ipython",
    "version": 3
   },
   "file_extension": ".py",
   "mimetype": "text/x-python",
   "name": "python",
   "nbconvert_exporter": "python",
   "pygments_lexer": "ipython3",
   "version": "3.7.6"
  },
  "varInspector": {
   "cols": {
    "lenName": 16,
    "lenType": 16,
    "lenVar": 40
   },
   "kernels_config": {
    "python": {
     "delete_cmd_postfix": "",
     "delete_cmd_prefix": "del ",
     "library": "var_list.py",
     "varRefreshCmd": "print(var_dic_list())"
    },
    "r": {
     "delete_cmd_postfix": ") ",
     "delete_cmd_prefix": "rm(",
     "library": "var_list.r",
     "varRefreshCmd": "cat(var_dic_list()) "
    }
   },
   "types_to_exclude": [
    "module",
    "function",
    "builtin_function_or_method",
    "instance",
    "_Feature"
   ],
   "window_display": false
  }
 },
 "nbformat": 4,
 "nbformat_minor": 2
}
