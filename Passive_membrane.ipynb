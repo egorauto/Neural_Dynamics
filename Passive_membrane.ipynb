{
 "cells": [
  {
   "cell_type": "code",
   "execution_count": null,
   "metadata": {
    "ExecuteTime": {
     "end_time": "2019-11-28T16:54:51.003672Z",
     "start_time": "2019-11-28T16:54:50.184590Z"
    }
   },
   "outputs": [],
   "source": [
    "import numpy as np\n",
    "import matplotlib.pyplot as plt\n",
    "import pandas as pd\n",
    "%matplotlib inline"
   ]
  },
  {
   "cell_type": "code",
   "execution_count": null,
   "metadata": {
    "ExecuteTime": {
     "end_time": "2019-11-28T16:54:52.109395Z",
     "start_time": "2019-11-28T16:54:52.041747Z"
    }
   },
   "outputs": [],
   "source": [
    "class Neuron:\n",
    "    \n",
    "    def __init__(self, E_m, l, d, r_m, r_a, c_m):\n",
    "        self.E_m = E_m\n",
    "        self.l   = l\n",
    "        self.d   = d\n",
    "        self.r_m = r_m\n",
    "        self.r_a = r_a\n",
    "        self.c_m = c_m\n",
    "        \n",
    "        rad = self.d/2\n",
    "        \n",
    "    def simulate(self, I_t, dt, time, plot=True):\n",
    "        '''Simulate passive membrane voltage response to an input current'''\n",
    "        \n",
    "        V_t = self.E_m\n",
    "        rad = self.d/2\n",
    "        R_m = self.r_m/(2*np.pi*rad*self.l)\n",
    "        C_m = self.c_m*(2*np.pi*rad*self.l)\n",
    "        tau = R_m*C_m\n",
    "        \n",
    "        V_course = []\n",
    "        for i in np.arange(0, time, dt):\n",
    "            V_t1 = V_t + dt*((self.E_m - V_t)/tau + I_t/C_m)\n",
    "            V_course.append(V_t1)\n",
    "            V_t = V_t1\n",
    "        \n",
    "        if plot:\n",
    "            figure = plt.figure(figsize=(20, 8))\n",
    "            plt.ylim(-abs(min(V_course)*1.5), abs(min(V_course)*1.5))\n",
    "            plt.axhline(y=0, color='k', linestyle='--', alpha=0.4)\n",
    "            plt.grid(alpha=0.4)\n",
    "            plt.title('Injected current', fontsize=20)\n",
    "            plt.xlabel('Time / ms', fontsize=15)\n",
    "            plt.ylabel('Membrane voltage response / V', fontsize=15)\n",
    "            xi = np.arange(0, len(V_course))/(1/(dt*1000))\n",
    "            plt.plot(xi, V_course)\n",
    "        return V_course\n",
    "    \n",
    "    def simulate_sin(self, A, f, dt, time, plot=True):\n",
    "        '''Simulate passive membrane voltage response to a sinusoid input current'''\n",
    "        \n",
    "        V_t  = self.E_m\n",
    "        rad  = self.d/2\n",
    "        R_m = self.r_m/(2*np.pi*rad*self.l)\n",
    "        C_m = self.c_m*(2*np.pi*rad*self.l)\n",
    "        tau  = R_m*C_m\n",
    "        step = 0\n",
    "        \n",
    "        V_course = []\n",
    "        for i in np.arange(0, time, dt):\n",
    "            I_t   = A*np.sin(2*np.pi*f*step)\n",
    "            V_t1 = V_t + (dt*(self.E_m - V_t + R_m*I_t))/tau\n",
    "            V_course.append(V_t1)\n",
    "            V_t = V_t1\n",
    "            step += dt\n",
    "        \n",
    "        if plot:\n",
    "            figure = plt.figure(figsize=(20, 8))\n",
    "            plt.axhline(y=0, color='k', linestyle='--', alpha=0.4)\n",
    "            plt.grid(alpha=0.4)\n",
    "            plt.title('Injected sine current at %.1f Hertz' %f, fontsize=20)\n",
    "            plt.xlabel('Time / ms', fontsize=15)\n",
    "            plt.ylabel('Membrane voltage response / V', fontsize=15)\n",
    "            xi = np.arange(0, len(V_course))/(1/(dt*1000))\n",
    "            plt.plot(xi, V_course)\n",
    "        return V_course\n",
    "    \n",
    "    def simulate_two_compartment(self, I_t, R_m, R_a, C_m, dt, t_e, t_s, time, plot=True):\n",
    "        '''Simulate passive two-compartment model membrane voltage response to an input current'''\n",
    "        \n",
    "        V1_t = self.E_m\n",
    "        V2_t = self.E_m\n",
    "        tau = R_m * C_m\n",
    "        V1_course = []\n",
    "        V2_course = []\n",
    "        for j in np.arange(0, time, dt):\n",
    "            if j < (t_e):\n",
    "                curr_I = I_t[0]\n",
    "            elif (t_e) <= j < (t_s):\n",
    "                curr_I = I_t[1]\n",
    "            else:\n",
    "                curr_I = I_t[2]\n",
    "            V1_t1 = V1_t + dt*((self.E_m - V1_t)/tau + (V2_t - V1_t)/(R_a*C_m) + curr_I/C_m)\n",
    "            V1_course.append(V1_t1)\n",
    "            V1_t = V1_t1\n",
    "\n",
    "            V2_t1 = V2_t + dt*((V1_t - V2_t)/(R_a*C_m) + (self.E_m - V2_t)/tau)\n",
    "            V2_course.append(V2_t1)\n",
    "            V2_t = V2_t1\n",
    "        \n",
    "        if plot:\n",
    "            figure = plt.figure(figsize=(13, 7))\n",
    "            plt.ylim(-abs(min(V1_course)*1.5), abs(min(V1_course)*1.5))\n",
    "            plt.axhline(y=0, color='k', linestyle='--', alpha=0.4)\n",
    "            plt.grid(alpha=0.4)\n",
    "            plt.title('Injected current', fontsize=20)\n",
    "            plt.xlabel('Time / ms', fontsize=15)\n",
    "            plt.ylabel('Membrane voltage response / V', fontsize=15)\n",
    "\n",
    "            xi = np.arange(0, len(V1_course))/(1/(dt*1000))\n",
    "            plt.plot(xi, V1_course, label=\"Compartment 1\")\n",
    "            plt.plot(xi, V2_course, label='Compartment 2')\n",
    "            plt.axvline(x=t_e*1000, color='r', linestyle='--', alpha=0.4)\n",
    "            plt.axvline(x=t_s*1000, color='r', linestyle='--', alpha=0.4)\n",
    "\n",
    "            plt.xticks(fontsize = 10)\n",
    "            plt.yticks(fontsize = 10)\n",
    "            plt.xlim(200, 700)\n",
    "            plt.legend(prop={'size': 12})\n",
    "        return V1_course, V2_course\n",
    "\n",
    "    def simulate_two_compartment_sin(self, A, f, dt, R_m, R_a, C_m, time, plot=True):\n",
    "        '''Simulate passive two-compartment model membrane voltage response to a sinusoid input current'''\n",
    "        \n",
    "        V1_t = self.E_m\n",
    "        V2_t = self.E_m\n",
    "        tau = R_m * C_m\n",
    "        V1_course = []\n",
    "        V2_course = []\n",
    "        for j in np.arange(0, time, dt):\n",
    "            curr_I = A*np.sin(2*np.pi*f*j)\n",
    "            V1_t1 = (V1_t + dt*((self.E_m - V1_t)/tau + (V2_t - V1_t)/(R_a*C_m) + curr_I/C_m))\n",
    "            V1_course.append(V1_t1)\n",
    "            V1_t = V1_t1\n",
    "            V2_t1 = (V2_t + dt*((V1_t - V2_t)/(R_a*C_m) + (self.E_m - V2_t)/tau))\n",
    "            V2_course.append(V2_t1)\n",
    "            V2_t = V2_t1\n",
    "        \n",
    "        if plot:\n",
    "            figure = plt.figure(figsize=(13, 7))\n",
    "            plt.axhline(y=0, color='k', linestyle='--', alpha=0.4)\n",
    "            plt.grid(alpha=0.4)\n",
    "            plt.title('Injected current', fontsize=20)\n",
    "            plt.xlabel('Time / ms', fontsize=15)\n",
    "            plt.ylabel('Membrane voltage response / V', fontsize=15)\n",
    "\n",
    "            xi = np.arange(0, len(V1_course))/(1/(dt*1000))\n",
    "            plt.plot(xi, V1_course, label=\"Compartment 1\")\n",
    "            plt.plot(xi, V2_course, label='Compartment 2')\n",
    "            plt.xticks(fontsize = 10)\n",
    "            plt.yticks(fontsize = 10)\n",
    "            plt.legend(prop={'size': 12})\n",
    "        return V1_course, V2_course\n",
    "    \n",
    "    def simulate_multi_compartment(self, N, j, I_t, R_m, R_a, C_m, dt, t_e, t_s, time, plot=True):\n",
    "        '''Simulate passive multi-compartment model membrane voltage response to an input current\n",
    "           First compartment with 'sealed end'\n",
    "           Last compartment with 'killed end'\n",
    "        '''\n",
    "        \n",
    "        V_t = np.zeros(N)\n",
    "        tau = R_m * C_m\n",
    "        V_course = np.zeros((N, int(time/dt)))\n",
    "        \n",
    "        right = [i for i in range(1, j)][::-1]\n",
    "        left = [i for i in range((j+1), (N-1))]\n",
    "        k = 0\n",
    "        for t in np.arange(0, time, dt):\n",
    "            if t < t_e:\n",
    "                curr_I = I_t[0]\n",
    "            elif t > t_s:\n",
    "                curr_I = I_t[2]\n",
    "            else:\n",
    "                curr_I = I_t[1]\n",
    "            V_course[j, k] = V_t[j] + dt*((self.E_m - V_t[j])/tau + (V_t[j+1] - V_t[j])/(R_a*C_m) + (V_t[j-1] - V_t[j])/(R_a*C_m) + curr_I/C_m)\n",
    "            V_t[j] = V_course[j, k]\n",
    "            for r in right:\n",
    "                V_course[r, k] = V_t[r] + dt*((self.E_m - V_t[r])/tau + (V_t[r+1] - 2*V_t[r] + V_t[r-1])/(R_a*C_m))\n",
    "                V_t[r] = V_course[r, k]\n",
    "            for l in left:\n",
    "                V_course[l, k] = V_t[l] + dt*((self.E_m - V_t[l])/tau + (V_t[l-1] - 2*V_t[l] + V_t[l+1])/(R_a*C_m))\n",
    "                V_t[l] = V_course[l, k]\n",
    "            c = 0\n",
    "            V_course[c, k] = V_t[c] + dt*((self.E_m - V_t[c])/tau + (V_t[c+1] - V_t[c])/(R_a*C_m))\n",
    "            V_t[c] = V_course[c, k]\n",
    "            c = (N-1)\n",
    "            V_course[c, k] = 0\n",
    "            V_t[c] = V_course[c, k]\n",
    "            k += 1\n",
    "            \n",
    "        if plot:\n",
    "            figure = plt.figure(figsize=(13, 7))\n",
    "            plt.grid(alpha=0.4)\n",
    "            plt.title('Injected current', fontsize=20)\n",
    "            plt.xlabel('Time / ms', fontsize=15)\n",
    "            plt.ylabel('Membrane voltage response / V', fontsize=15)\n",
    "            plt.axvline(x=t_e*1000, color='r', linestyle='--', alpha=0.4)\n",
    "            plt.axvline(x=t_s*1000, color='r', linestyle='--', alpha=0.4)\n",
    "\n",
    "            xi = np.arange(0, V_course.shape[1])/(1/(dt*1000))\n",
    "            for c in range(N):\n",
    "                plt.plot(xi, V_course[c, :], label=\"Compartment %d\"%(c))\n",
    "            plt.xticks(fontsize = 10)\n",
    "            plt.yticks(fontsize = 10)\n",
    "#             plt.xlim(0, 800)\n",
    "            plt.legend(prop={'size': 7}, ncol=2)\n",
    "        return V_course"
   ]
  },
  {
   "cell_type": "code",
   "execution_count": null,
   "metadata": {
    "ExecuteTime": {
     "end_time": "2019-11-28T16:54:53.994493Z",
     "start_time": "2019-11-28T16:54:53.974086Z"
    }
   },
   "outputs": [],
   "source": [
    "E_m = 0\n",
    "L   = 100*10**-6\n",
    "d   = 2*10**-6\n",
    "r_m = 1\n",
    "r_a = 1\n",
    "c_m = 10**-2\n",
    "\n",
    "a = Neuron(E_m, L, d, r_m=r_m, r_a=r_a, c_m=c_m)"
   ]
  },
  {
   "cell_type": "code",
   "execution_count": null,
   "metadata": {
    "ExecuteTime": {
     "end_time": "2019-11-21T22:45:39.278991Z",
     "start_time": "2019-11-21T22:45:39.066958Z"
    },
    "hide_input": false,
    "scrolled": false
   },
   "outputs": [],
   "source": [
    "I_t    = -50*10**-12\n",
    "dt     = 0.0001\n",
    "time   = 1\n",
    "v      = a.simulate(I_t, dt, time)"
   ]
  },
  {
   "cell_type": "code",
   "execution_count": null,
   "metadata": {
    "ExecuteTime": {
     "end_time": "2019-11-21T22:46:40.907513Z",
     "start_time": "2019-11-21T22:46:39.439163Z"
    }
   },
   "outputs": [],
   "source": [
    "f      = 100\n",
    "A      = 100*10**-12\n",
    "dt     = 0.00001\n",
    "time   = 3\n",
    "v = a.simulate_sin(A, f, dt, time, plot=True)"
   ]
  },
  {
   "cell_type": "code",
   "execution_count": null,
   "metadata": {
    "ExecuteTime": {
     "end_time": "2019-11-21T22:46:56.291782Z",
     "start_time": "2019-11-21T22:46:56.285378Z"
    }
   },
   "outputs": [],
   "source": [
    "def get_amplitude(neuron, f):\n",
    "    amp = []\n",
    "    for i in range(len(f)):\n",
    "        curr_f = f[i]\n",
    "        V = a.simulate_sin(A, curr_f, dt, time, plot=False)\n",
    "        l = len(V)\n",
    "        tmp = V[(l//2):]\n",
    "        amp.append(max(tmp))\n",
    "    return amp"
   ]
  },
  {
   "cell_type": "code",
   "execution_count": null,
   "metadata": {
    "ExecuteTime": {
     "end_time": "2019-11-21T22:47:01.173570Z",
     "start_time": "2019-11-21T22:46:56.649552Z"
    }
   },
   "outputs": [],
   "source": [
    "f = [0.5, 1, 2, 8, 100, 1000]\n",
    "amp = get_amplitude(a, f)"
   ]
  },
  {
   "cell_type": "code",
   "execution_count": null,
   "metadata": {
    "ExecuteTime": {
     "end_time": "2019-11-21T22:47:03.439665Z",
     "start_time": "2019-11-21T22:47:03.162754Z"
    }
   },
   "outputs": [],
   "source": [
    "figure = plt.figure(figsize=(8, 8))\n",
    "plt.grid(alpha=0.4)\n",
    "plt.xlabel('Log-frequency of injected current / [Hz]', fontsize=15)\n",
    "plt.ylabel('Log-voltage membrane response / [V]', fontsize=15)\n",
    "plt.title('Bode diagram', fontsize=20)\n",
    "plt.plot(np.log(f), np.log(amp))\n",
    "plt.scatter(np.log(f), np.log(amp))"
   ]
  },
  {
   "cell_type": "code",
   "execution_count": null,
   "metadata": {
    "ExecuteTime": {
     "end_time": "2019-11-21T22:49:08.044076Z",
     "start_time": "2019-11-21T22:49:07.506647Z"
    }
   },
   "outputs": [],
   "source": [
    "R_m   = 265*10**6\n",
    "R_a   = 265*10**6\n",
    "C_m   = 75*10**-12\n",
    "I_t   = [0, -100*10**-12, 0]\n",
    "t_e   = 0.4\n",
    "t_s   = 0.44\n",
    "dt    = 0.00001\n",
    "time  = 1 #s\n",
    "\n",
    "v1, v2 = a.simulate_two_compartment(I_t, R_m, R_a, C_m, dt, t_e, t_s, time)"
   ]
  },
  {
   "cell_type": "code",
   "execution_count": null,
   "metadata": {
    "ExecuteTime": {
     "end_time": "2019-11-21T22:49:12.859635Z",
     "start_time": "2019-11-21T22:49:12.343579Z"
    }
   },
   "outputs": [],
   "source": [
    "R_m  = 265*10**6\n",
    "R_a  = 300*10**6\n",
    "C_m  = 75*10**-12\n",
    "A    = 100*10**-12\n",
    "f    = 50\n",
    "dt   = 0.0001\n",
    "time = 2 #s\n",
    "\n",
    "v1, v2 = a.simulate_two_compartment_sin(A, f, dt, R_m, R_a, C_m, time)"
   ]
  },
  {
   "cell_type": "code",
   "execution_count": null,
   "metadata": {
    "ExecuteTime": {
     "end_time": "2019-11-21T22:49:26.509024Z",
     "start_time": "2019-11-21T22:49:26.498816Z"
    }
   },
   "outputs": [],
   "source": [
    "def get_amplitude(neuron, f):\n",
    "    amp1 = []\n",
    "    amp2 = []\n",
    "    for i in range(len(f)):\n",
    "        curr_f = f[i]\n",
    "        v1, v2 = a.simulate_two_compartment_sin(A, curr_f, 0.000001, r_m, r_a, c_m, time, plot=False)\n",
    "        l = len(v1)\n",
    "        tmp1 = v1[(l//2):]\n",
    "        tmp2 = v2[(l//2):]\n",
    "        amp1.append(max(tmp1))\n",
    "        amp2.append(max(tmp2))\n",
    "    return amp1, amp2"
   ]
  },
  {
   "cell_type": "code",
   "execution_count": null,
   "metadata": {
    "ExecuteTime": {
     "end_time": "2019-11-21T22:51:30.347839Z",
     "start_time": "2019-11-21T22:49:29.047976Z"
    }
   },
   "outputs": [],
   "source": [
    "f = [1, 2, 5, 10, 20, 50, 100, 200, 500, 1000, 2000, 5000]\n",
    "amp1, amp2 = get_amplitude(a, f)"
   ]
  },
  {
   "cell_type": "code",
   "execution_count": null,
   "metadata": {
    "ExecuteTime": {
     "end_time": "2019-11-21T22:51:33.335055Z",
     "start_time": "2019-11-21T22:51:33.103318Z"
    }
   },
   "outputs": [],
   "source": [
    "figure = plt.figure(figsize=(8, 8))\n",
    "plt.grid(alpha=0.4)\n",
    "plt.xlabel('Log-frequency of injected current [Hz]', fontsize=15)\n",
    "plt.ylabel('Log-voltage membrane response [V]', fontsize=15)\n",
    "plt.title('Bode diagram', fontsize=20)\n",
    "plt.plot(np.log(f), np.log(amp1))\n",
    "plt.scatter(np.log(f), np.log(amp1), label='Compartment 1')\n",
    "plt.plot(np.log(f), np.log(amp2))\n",
    "plt.scatter(np.log(f), np.log(amp2), label='Compartment 2')\n",
    "plt.legend(prop={'size': 12})"
   ]
  },
  {
   "cell_type": "code",
   "execution_count": null,
   "metadata": {
    "ExecuteTime": {
     "end_time": "2019-11-28T16:55:06.809162Z",
     "start_time": "2019-11-28T16:55:05.483659Z"
    }
   },
   "outputs": [],
   "source": [
    "N = 50\n",
    "j = 20\n",
    "I_t = [0, 10*10**-12, 10*10**-12]\n",
    "R_m = 1.59*10**9\n",
    "R_a = 0.0318*10**9\n",
    "C_m = 62.8*10**-12\n",
    "dt = 0.001\n",
    "t_e = 0.02\n",
    "t_s = 0.4\n",
    "time = 1\n",
    "\n",
    "v = a.simulate_multi_compartment(N, j, I_t, R_m, R_a, C_m, dt, t_e, t_s, time, plot=True)"
   ]
  },
  {
   "cell_type": "code",
   "execution_count": null,
   "metadata": {
    "ExecuteTime": {
     "end_time": "2019-11-28T16:54:45.870998Z",
     "start_time": "2019-11-28T16:54:45.852957Z"
    }
   },
   "outputs": [],
   "source": [
    "N = 50\n",
    "j = 14\n",
    "I_t = [0, 100*10**-12, 0]\n",
    "R_m = 1.59*10**9\n",
    "R_a = 0.0318*10**9\n",
    "C_m = 62.8*10**-12\n",
    "dt = 0.001\n",
    "t_e = 0.02\n",
    "t_s = 0.4\n",
    "time = 1\n",
    "\n",
    "v = a.simulate_multi_compartment(N, j, I_t, R_m, R_a, C_m, dt, t_e, t_s, time, plot=True)"
   ]
  },
  {
   "cell_type": "code",
   "execution_count": null,
   "metadata": {
    "ExecuteTime": {
     "end_time": "2019-11-26T21:19:41.206496Z",
     "start_time": "2019-11-26T21:19:40.330695Z"
    }
   },
   "outputs": [],
   "source": [
    "from mpl_toolkits.mplot3d import axes3d\n",
    "nx, ny = 1000, 50\n",
    "x = range(nx)\n",
    "y = range(ny)\n",
    "\n",
    "hf = plt.figure(figsize=(12, 8))\n",
    "ha = hf.add_subplot(111, projection='3d')\n",
    "\n",
    "X, Y = np.meshgrid(x, y)\n",
    "ha.plot_surface(X, Y, v)\n"
   ]
  },
  {
   "cell_type": "code",
   "execution_count": null,
   "metadata": {
    "ExecuteTime": {
     "end_time": "2019-11-28T16:55:13.813214Z",
     "start_time": "2019-11-28T16:55:12.376540Z"
    }
   },
   "outputs": [],
   "source": [
    "import plotly.graph_objects as go\n",
    "fig = go.Figure(data=go.Surface(z=v))\n",
    "fig.update_layout(scene = dict(\n",
    "                    xaxis_title='Time / ms',\n",
    "                    yaxis_title='Compartment',\n",
    "                    zaxis_title='Voltage / mV'),\n",
    "                    width=700,\n",
    "                    margin=dict(r=20, b=10, l=10, t=10))\n",
    "fig.show()\n",
    "# fig.write_image(\"fig1.png\")"
   ]
  },
  {
   "cell_type": "code",
   "execution_count": null,
   "metadata": {},
   "outputs": [],
   "source": []
  }
 ],
 "metadata": {
  "kernelspec": {
   "display_name": "Python 3",
   "language": "python",
   "name": "python3"
  },
  "language_info": {
   "codemirror_mode": {
    "name": "ipython",
    "version": 3
   },
   "file_extension": ".py",
   "mimetype": "text/x-python",
   "name": "python",
   "nbconvert_exporter": "python",
   "pygments_lexer": "ipython3",
   "version": "3.7.4"
  },
  "varInspector": {
   "cols": {
    "lenName": 16,
    "lenType": 16,
    "lenVar": 40
   },
   "kernels_config": {
    "python": {
     "delete_cmd_postfix": "",
     "delete_cmd_prefix": "del ",
     "library": "var_list.py",
     "varRefreshCmd": "print(var_dic_list())"
    },
    "r": {
     "delete_cmd_postfix": ") ",
     "delete_cmd_prefix": "rm(",
     "library": "var_list.r",
     "varRefreshCmd": "cat(var_dic_list()) "
    }
   },
   "types_to_exclude": [
    "module",
    "function",
    "builtin_function_or_method",
    "instance",
    "_Feature"
   ],
   "window_display": false
  }
 },
 "nbformat": 4,
 "nbformat_minor": 2
}
